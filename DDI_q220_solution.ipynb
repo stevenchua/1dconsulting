{
  "nbformat": 4,
  "nbformat_minor": 0,
  "metadata": {
    "colab": {
      "name": "DDI_q220_solution.ipynb",
      "provenance": [],
      "collapsed_sections": [],
      "machine_shape": "hm",
      "include_colab_link": true
    },
    "kernelspec": {
      "name": "python3",
      "display_name": "Python 3"
    }
  },
  "cells": [
    {
      "cell_type": "markdown",
      "metadata": {
        "id": "view-in-github",
        "colab_type": "text"
      },
      "source": [
        "<a href=\"https://colab.research.google.com/github/stevenchua/1dconsulting/blob/master/DDI_q220_solution.ipynb\" target=\"_parent\"><img src=\"https://colab.research.google.com/assets/colab-badge.svg\" alt=\"Open In Colab\"/></a>"
      ]
    },
    {
      "cell_type": "markdown",
      "metadata": {
        "id": "35-tYdXjJojh"
      },
      "source": [
        "Question from <a href=\"www.interviewqs.com\">Data Interview Qs</a> - sign up to receive a few DS questions/week via email."
      ]
    },
    {
      "cell_type": "markdown",
      "metadata": {
        "id": "BeO2dmERJ_3E"
      },
      "source": [
        "\n",
        "\n",
        "---\n",
        "\n"
      ]
    },
    {
      "cell_type": "markdown",
      "metadata": {
        "id": "Gvs1n_kfkYjI"
      },
      "source": [
        "<p>Given the following text, can you find the most frequent part of speech (POS) used in the text below? </p>\n",
        "\n",
        "<p>To solve this question, we recommend you start with <a href=\"http://www.nltk.org/?source=post_page-----2d30f70af13b----------------------\">Natural Language Toolkit (NLTK)</a>. Within NLTK you will want to look into the pos_tag() function. </p>\n",
        "\n",
        "<p>NLTK is a great tool that allows us to easily analyze text. There's a lot of interesting application for NLTK including sentiments analysis (can be applied to social media feeds / classifying reviews for a product) and spam filters (identifing text as spam or !spam).</p>\n",
        "\n"
      ]
    },
    {
      "cell_type": "code",
      "metadata": {
        "id": "EzHsSi_7oY7I"
      },
      "source": [
        "#text from Harper Lee, To Kill a Mockingbird\n",
        "texts = \"\"\"“Atticus said to Jem one day, “I’d rather you shot at tin cans in the backyard, but I know you’ll go after birds. \n",
        "Shoot all the blue jays you want, if you can hit ‘em, but remember it’s a sin to kill a mockingbird.” \n",
        "That was the only time I ever heard Atticus say it was a sin to do something, and I asked Miss Maudie about it. \n",
        "“Your father’s right,” she said. \n",
        "“Mockingbirds don’t do one thing except make music for us to enjoy. \n",
        "They don’t eat up people’s gardens, don’t nest in corn cribs, they don’t do one thing but sing their hearts out for us. \n",
        "That’s why it’s a sin to kill a mockingbird.”\"\"\"\n"
      ],
      "execution_count": null,
      "outputs": []
    },
    {
      "cell_type": "markdown",
      "metadata": {
        "id": "Ex_Wu2BgKOr0"
      },
      "source": [
        "\n",
        "\n",
        "---\n",
        "\n"
      ]
    },
    {
      "cell_type": "markdown",
      "metadata": {
        "id": "jy3V9cdrJtoJ"
      },
      "source": [
        "##**Solution**:\n",
        "\n"
      ]
    },
    {
      "cell_type": "code",
      "metadata": {
        "id": "oxSVf0RKZwd7"
      },
      "source": [
        "# Importing standard packages\n",
        "import pandas as pd\n",
        "import matplotlib.pyplot as plt\n",
        "import numpy as np\n",
        "%matplotlib inline\n",
        "\n",
        "#installing nltk \n",
        "#you can read more about nltk here (https://www.nltk.org/index.html)\n",
        "!pip install nltk\n",
        "import nltk\n",
        "#this will install all associated packages needed to run\n",
        "#nltk in colab\n",
        "nltk.download(\"popular\")\n",
        "\n",
        "import string"
      ],
      "execution_count": null,
      "outputs": []
    },
    {
      "cell_type": "code",
      "metadata": {
        "id": "QkcMuwPdE4Zn"
      },
      "source": [
        "#text from Harper Lee, To Kill a Mockingbird\n",
        "texts = \"\"\"“Atticus said to Jem one day, “I’d rather you shot at tin cans in the backyard, but I know you’ll go after birds. \n",
        "Shoot all the blue jays you want, if you can hit ‘em, but remember it’s a sin to kill a mockingbird.” \n",
        "That was the only time I ever heard Atticus say it was a sin to do something, and I asked Miss Maudie about it. \n",
        "“Your father’s right,” she said. \n",
        "“Mockingbirds don’t do one thing except make music for us to enjoy. \n",
        "They don’t eat up people’s gardens, don’t nest in corn cribs, they don’t do one thing but sing their hearts out for us. \n",
        "That’s why it’s a sin to kill a mockingbird.”\"\"\"\n",
        "\n",
        "\n",
        "\n",
        "text = texts.strip(string.punctuation)\n"
      ],
      "execution_count": null,
      "outputs": []
    },
    {
      "cell_type": "code",
      "metadata": {
        "id": "H9KmQCacuZET",
        "colab": {
          "base_uri": "https://localhost:8080/",
          "height": 34
        },
        "outputId": "81acd509-807a-4a5e-c22c-d479c665bd7e"
      },
      "source": [
        "#first we need to tokenize the words\n",
        "words = nltk.word_tokenize(text)\n",
        "#next we can run pos_tag which tags the \"part of speech\" the \n",
        "#word corresponds to\n",
        "tagged_words = nltk.pos_tag(words)\n",
        "\n",
        "#printing an example of what the tagged_words list looks like\n",
        "print(tagged_words[0:5])"
      ],
      "execution_count": null,
      "outputs": [
        {
          "output_type": "stream",
          "text": [
            "[('“', 'JJ'), ('Atticus', 'NNP'), ('said', 'VBD'), ('to', 'TO'), ('Jem', 'NNP')]\n"
          ],
          "name": "stdout"
        }
      ]
    },
    {
      "cell_type": "code",
      "metadata": {
        "id": "VQJVIkBBtsk7",
        "colab": {
          "base_uri": "https://localhost:8080/",
          "height": 34
        },
        "outputId": "b46fd851-7c59-4eef-b84e-94298b6bd862"
      },
      "source": [
        "#next we're going to get all of the tags, then use the FreqDist function to get \n",
        "#the frequency of each tag, to get the top frequency, we can use .max()\n",
        "tags = [tag for (word, tag) in tagged_words]\n",
        "\n",
        "print(nltk.FreqDist(tags).max())\n",
        "#if you scroll to the bottom of this notebook, I used a function to print\n",
        "# all POS tags, NN corresponds to noun"
      ],
      "execution_count": null,
      "outputs": [
        {
          "output_type": "stream",
          "text": [
            "Most common tag is :  NN\n"
          ],
          "name": "stdout"
        }
      ]
    },
    {
      "cell_type": "code",
      "metadata": {
        "id": "RvByxJqgwRKy",
        "colab": {
          "base_uri": "https://localhost:8080/",
          "height": 442
        },
        "outputId": "d858acc1-dbca-4dd8-eb01-0bcd8362b5b5"
      },
      "source": [
        "# just for fun, we can also print the tag distribution to see what other parts\n",
        "# of speech NLTK idenified \n",
        "nltk.FreqDist(tags)"
      ],
      "execution_count": null,
      "outputs": [
        {
          "output_type": "execute_result",
          "data": {
            "text/plain": [
              "FreqDist({',': 8,\n",
              "          '.': 6,\n",
              "          'CC': 4,\n",
              "          'CD': 3,\n",
              "          'DT': 9,\n",
              "          'IN': 9,\n",
              "          'JJ': 9,\n",
              "          'JJS': 1,\n",
              "          'MD': 1,\n",
              "          'NN': 30,\n",
              "          'NNP': 12,\n",
              "          'NNS': 6,\n",
              "          'PDT': 1,\n",
              "          'PRP': 17,\n",
              "          'PRP$': 2,\n",
              "          'RB': 4,\n",
              "          'RP': 2,\n",
              "          'TO': 5,\n",
              "          'VB': 8,\n",
              "          'VBD': 8,\n",
              "          'VBG': 1,\n",
              "          'VBP': 11,\n",
              "          'VBZ': 2,\n",
              "          'WDT': 1,\n",
              "          'WRB': 1})"
            ]
          },
          "metadata": {
            "tags": []
          },
          "execution_count": 82
        }
      ]
    },
    {
      "cell_type": "markdown",
      "metadata": {
        "id": "c4Qo3OfWv0-7"
      },
      "source": [
        "----"
      ]
    },
    {
      "cell_type": "code",
      "metadata": {
        "id": "LACEe7vevlHD",
        "colab": {
          "base_uri": "https://localhost:8080/",
          "height": 1000
        },
        "outputId": "e95ff27f-0aa0-4ee8-8145-8c89e1ebac85"
      },
      "source": [
        "#you can see the meaning of the tag list here\n",
        "nltk.help.upenn_tagset()\n"
      ],
      "execution_count": null,
      "outputs": [
        {
          "output_type": "stream",
          "text": [
            "$: dollar\n",
            "    $ -$ --$ A$ C$ HK$ M$ NZ$ S$ U.S.$ US$\n",
            "'': closing quotation mark\n",
            "    ' ''\n",
            "(: opening parenthesis\n",
            "    ( [ {\n",
            "): closing parenthesis\n",
            "    ) ] }\n",
            ",: comma\n",
            "    ,\n",
            "--: dash\n",
            "    --\n",
            ".: sentence terminator\n",
            "    . ! ?\n",
            ":: colon or ellipsis\n",
            "    : ; ...\n",
            "CC: conjunction, coordinating\n",
            "    & 'n and both but either et for less minus neither nor or plus so\n",
            "    therefore times v. versus vs. whether yet\n",
            "CD: numeral, cardinal\n",
            "    mid-1890 nine-thirty forty-two one-tenth ten million 0.5 one forty-\n",
            "    seven 1987 twenty '79 zero two 78-degrees eighty-four IX '60s .025\n",
            "    fifteen 271,124 dozen quintillion DM2,000 ...\n",
            "DT: determiner\n",
            "    all an another any both del each either every half la many much nary\n",
            "    neither no some such that the them these this those\n",
            "EX: existential there\n",
            "    there\n",
            "FW: foreign word\n",
            "    gemeinschaft hund ich jeux habeas Haementeria Herr K'ang-si vous\n",
            "    lutihaw alai je jour objets salutaris fille quibusdam pas trop Monte\n",
            "    terram fiche oui corporis ...\n",
            "IN: preposition or conjunction, subordinating\n",
            "    astride among uppon whether out inside pro despite on by throughout\n",
            "    below within for towards near behind atop around if like until below\n",
            "    next into if beside ...\n",
            "JJ: adjective or numeral, ordinal\n",
            "    third ill-mannered pre-war regrettable oiled calamitous first separable\n",
            "    ectoplasmic battery-powered participatory fourth still-to-be-named\n",
            "    multilingual multi-disciplinary ...\n",
            "JJR: adjective, comparative\n",
            "    bleaker braver breezier briefer brighter brisker broader bumper busier\n",
            "    calmer cheaper choosier cleaner clearer closer colder commoner costlier\n",
            "    cozier creamier crunchier cuter ...\n",
            "JJS: adjective, superlative\n",
            "    calmest cheapest choicest classiest cleanest clearest closest commonest\n",
            "    corniest costliest crassest creepiest crudest cutest darkest deadliest\n",
            "    dearest deepest densest dinkiest ...\n",
            "LS: list item marker\n",
            "    A A. B B. C C. D E F First G H I J K One SP-44001 SP-44002 SP-44005\n",
            "    SP-44007 Second Third Three Two * a b c d first five four one six three\n",
            "    two\n",
            "MD: modal auxiliary\n",
            "    can cannot could couldn't dare may might must need ought shall should\n",
            "    shouldn't will would\n",
            "NN: noun, common, singular or mass\n",
            "    common-carrier cabbage knuckle-duster Casino afghan shed thermostat\n",
            "    investment slide humour falloff slick wind hyena override subhumanity\n",
            "    machinist ...\n",
            "NNP: noun, proper, singular\n",
            "    Motown Venneboerger Czestochwa Ranzer Conchita Trumplane Christos\n",
            "    Oceanside Escobar Kreisler Sawyer Cougar Yvette Ervin ODI Darryl CTCA\n",
            "    Shannon A.K.C. Meltex Liverpool ...\n",
            "NNPS: noun, proper, plural\n",
            "    Americans Americas Amharas Amityvilles Amusements Anarcho-Syndicalists\n",
            "    Andalusians Andes Andruses Angels Animals Anthony Antilles Antiques\n",
            "    Apache Apaches Apocrypha ...\n",
            "NNS: noun, common, plural\n",
            "    undergraduates scotches bric-a-brac products bodyguards facets coasts\n",
            "    divestitures storehouses designs clubs fragrances averages\n",
            "    subjectivists apprehensions muses factory-jobs ...\n",
            "PDT: pre-determiner\n",
            "    all both half many quite such sure this\n",
            "POS: genitive marker\n",
            "    ' 's\n",
            "PRP: pronoun, personal\n",
            "    hers herself him himself hisself it itself me myself one oneself ours\n",
            "    ourselves ownself self she thee theirs them themselves they thou thy us\n",
            "PRP$: pronoun, possessive\n",
            "    her his mine my our ours their thy your\n",
            "RB: adverb\n",
            "    occasionally unabatingly maddeningly adventurously professedly\n",
            "    stirringly prominently technologically magisterially predominately\n",
            "    swiftly fiscally pitilessly ...\n",
            "RBR: adverb, comparative\n",
            "    further gloomier grander graver greater grimmer harder harsher\n",
            "    healthier heavier higher however larger later leaner lengthier less-\n",
            "    perfectly lesser lonelier longer louder lower more ...\n",
            "RBS: adverb, superlative\n",
            "    best biggest bluntest earliest farthest first furthest hardest\n",
            "    heartiest highest largest least less most nearest second tightest worst\n",
            "RP: particle\n",
            "    aboard about across along apart around aside at away back before behind\n",
            "    by crop down ever fast for forth from go high i.e. in into just later\n",
            "    low more off on open out over per pie raising start teeth that through\n",
            "    under unto up up-pp upon whole with you\n",
            "SYM: symbol\n",
            "    % & ' '' ''. ) ). * + ,. < = > @ A[fj] U.S U.S.S.R * ** ***\n",
            "TO: \"to\" as preposition or infinitive marker\n",
            "    to\n",
            "UH: interjection\n",
            "    Goodbye Goody Gosh Wow Jeepers Jee-sus Hubba Hey Kee-reist Oops amen\n",
            "    huh howdy uh dammit whammo shucks heck anyways whodunnit honey golly\n",
            "    man baby diddle hush sonuvabitch ...\n",
            "VB: verb, base form\n",
            "    ask assemble assess assign assume atone attention avoid bake balkanize\n",
            "    bank begin behold believe bend benefit bevel beware bless boil bomb\n",
            "    boost brace break bring broil brush build ...\n",
            "VBD: verb, past tense\n",
            "    dipped pleaded swiped regummed soaked tidied convened halted registered\n",
            "    cushioned exacted snubbed strode aimed adopted belied figgered\n",
            "    speculated wore appreciated contemplated ...\n",
            "VBG: verb, present participle or gerund\n",
            "    telegraphing stirring focusing angering judging stalling lactating\n",
            "    hankerin' alleging veering capping approaching traveling besieging\n",
            "    encrypting interrupting erasing wincing ...\n",
            "VBN: verb, past participle\n",
            "    multihulled dilapidated aerosolized chaired languished panelized used\n",
            "    experimented flourished imitated reunifed factored condensed sheared\n",
            "    unsettled primed dubbed desired ...\n",
            "VBP: verb, present tense, not 3rd person singular\n",
            "    predominate wrap resort sue twist spill cure lengthen brush terminate\n",
            "    appear tend stray glisten obtain comprise detest tease attract\n",
            "    emphasize mold postpone sever return wag ...\n",
            "VBZ: verb, present tense, 3rd person singular\n",
            "    bases reconstructs marks mixes displeases seals carps weaves snatches\n",
            "    slumps stretches authorizes smolders pictures emerges stockpiles\n",
            "    seduces fizzes uses bolsters slaps speaks pleads ...\n",
            "WDT: WH-determiner\n",
            "    that what whatever which whichever\n",
            "WP: WH-pronoun\n",
            "    that what whatever whatsoever which who whom whosoever\n",
            "WP$: WH-pronoun, possessive\n",
            "    whose\n",
            "WRB: Wh-adverb\n",
            "    how however whence whenever where whereby whereever wherein whereof why\n",
            "``: opening quotation mark\n",
            "    ` ``\n"
          ],
          "name": "stdout"
        }
      ]
    }
  ]
}